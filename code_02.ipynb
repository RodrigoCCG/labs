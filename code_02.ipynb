{
  "nbformat": 4,
  "nbformat_minor": 0,
  "metadata": {
    "colab": {
      "name": "code#02.ipynb",
      "provenance": [],
      "toc_visible": true,
      "include_colab_link": true
    },
    "kernelspec": {
      "name": "python3",
      "display_name": "Python 3"
    }
  },
  "cells": [
    {
      "cell_type": "markdown",
      "metadata": {
        "id": "view-in-github",
        "colab_type": "text"
      },
      "source": [
        "<a href=\"https://colab.research.google.com/github/RodrigoCCG/labs/blob/master/code_02.ipynb\" target=\"_parent\"><img src=\"https://colab.research.google.com/assets/colab-badge.svg\" alt=\"Open In Colab\"/></a>"
      ]
    },
    {
      "cell_type": "markdown",
      "metadata": {
        "id": "3dkvnZYDyc3U",
        "colab_type": "text"
      },
      "source": [
        "# Introdução\n",
        "\n",
        "Como vimos na aula passada, uma imagem pode ser preto e branca, tons de cinza ou colorida. Ainda, conseguimos extrair informações das imagens através dos histogramas.\n",
        "\n",
        "Para esta atividade, utilizaremos três imagens coloridas, retiradas do unsplash:\n",
        "\n",
        "* johannes-plenio-RwHv7LgeC7s-unsplash.jpg\n",
        "* claudio-testa--SO3JtE3gZo-unsplash.jpg\n",
        "* bailey-zindel-NRQV-hBF10M-unsplash.jpg\n",
        "\n",
        "As imagens se encontram na pasta compartilhada com vocês, na disciplina.\n",
        "\n",
        "No espaço de código abaixo, escreva os `imports` necessários para começarmos a atividade.\n"
      ]
    },
    {
      "cell_type": "code",
      "metadata": {
        "id": "2IDRHxOlKdgN",
        "colab_type": "code",
        "colab": {
          "base_uri": "https://localhost:8080/",
          "height": 122
        },
        "outputId": "68ceb7a6-8e23-4ff8-92e4-9299a0144976"
      },
      "source": [
        "from google.colab import drive\n",
        "drive.mount('/content/drive')"
      ],
      "execution_count": 1,
      "outputs": [
        {
          "output_type": "stream",
          "text": [
            "Go to this URL in a browser: https://accounts.google.com/o/oauth2/auth?client_id=947318989803-6bn6qk8qdgf4n4g3pfee6491hc0brc4i.apps.googleusercontent.com&redirect_uri=urn%3aietf%3awg%3aoauth%3a2.0%3aoob&response_type=code&scope=email%20https%3a%2f%2fwww.googleapis.com%2fauth%2fdocs.test%20https%3a%2f%2fwww.googleapis.com%2fauth%2fdrive%20https%3a%2f%2fwww.googleapis.com%2fauth%2fdrive.photos.readonly%20https%3a%2f%2fwww.googleapis.com%2fauth%2fpeopleapi.readonly\n",
            "\n",
            "Enter your authorization code:\n",
            "··········\n",
            "Mounted at /content/drive\n"
          ],
          "name": "stdout"
        }
      ]
    },
    {
      "cell_type": "code",
      "metadata": {
        "id": "SDGx0VBRxJmJ",
        "colab_type": "code",
        "colab": {}
      },
      "source": [
        "import numpy\n",
        "import pandas as pd\n",
        "import matplotlib.pyplot as plt\n",
        "from PIL import Image"
      ],
      "execution_count": 0,
      "outputs": []
    },
    {
      "cell_type": "markdown",
      "metadata": {
        "id": "jzucmfcDzV3D",
        "colab_type": "text"
      },
      "source": [
        "# 1a parte\n",
        "\n",
        "No espaço de código abaixo, plote as 3 imagens, uma ao lado da outra. Ainda, plote o histograma de cada canal de cor (R - Vermelho, G - Verde e B - Azul) abaixo da respectiva imagem."
      ]
    },
    {
      "cell_type": "code",
      "metadata": {
        "id": "VFmknYntz1S8",
        "colab_type": "code",
        "colab": {
          "base_uri": "https://localhost:8080/",
          "height": 182
        },
        "outputId": "af2a7c6e-f260-41db-ad61-e540e2ab7498"
      },
      "source": [
        "img_johan= Image.open('/content/drive/My Drive/Colab Notebooks/johannes-plenio-RwHv7LgeC7s-unsplash.jpg')\n",
        "img_claudio= Image.open('/content/drive/My Drive/Colab Notebooks/claudio-testa--SO3JtE3gZo-unsplash.jpg')\n",
        "img_bailey= Image.open('/content/drive/My Drive/Colab Notebooks/bailey-zindel-NRQV-hBF10M-unsplash.jpg')\n",
        "fig = plt.figure(figsize=(12,5))\n",
        "\n",
        "img_johan_arr = numpy.array(img_johan)\n",
        "red_johan = img_johan_arr[:,:,0]\n",
        "green_johan = img_johan_arr[:,:,1]\n",
        "blue_johan = img_johan_arr[:,:,2]\n",
        "\n",
        "plt.subplot(211)\n",
        "plt.imshow(img_johan_arr)\n",
        "\n",
        "plt.subplot(231)\n",
        "plt.hist(red_johan.ravel(), color='red')\n",
        "\n",
        "plt.subplot(232)\n",
        "plt.hist(green_johan.ravel(), color='green')\n",
        "\n",
        "plt.subplot(233)\n",
        "plt.hist(blue_johan.ravel(), color='blue')\n",
        "\n",
        "\n",
        "plt.show()"
      ],
      "execution_count": 33,
      "outputs": [
        {
          "output_type": "display_data",
          "data": {
            "image/png": "[encoded data removed]",
            "text/plain": [
              "<Figure size 864x360 with 3 Axes>"
            ]
          },
          "metadata": {
            "tags": []
          }
        }
      ]
    },
    {
      "cell_type": "markdown",
      "metadata": {
        "id": "xs80ht_Y0Zg4",
        "colab_type": "text"
      },
      "source": [
        "Olhando para os gráficos gerados, discorram comparando os resultados."
      ]
    },
    {
      "cell_type": "markdown",
      "metadata": {
        "id": "gZwKL9qX08UM",
        "colab_type": "text"
      },
      "source": [
        "\n",
        "\n",
        "> Coloque a reposta aqui!\n",
        "\n"
      ]
    },
    {
      "cell_type": "markdown",
      "metadata": {
        "id": "fPuxCutUz8C_",
        "colab_type": "text"
      },
      "source": [
        "# 2a parte\n",
        "\n",
        "Escolha uma das imagens acima, para continuarmos os experimentos. \n",
        "\n",
        "Vamos gerar algumas imagens preto e branco, utilizando limiares diferentes:\n",
        "\n",
        "*  45\n",
        "*  100\n",
        "*  145\n",
        "*  200\n",
        "*  245\n",
        "\n",
        "Escreva o código no espaço abaixo."
      ]
    },
    {
      "cell_type": "code",
      "metadata": {
        "id": "vGmU1s-I1-K1",
        "colab_type": "code",
        "colab": {}
      },
      "source": [
        ""
      ],
      "execution_count": 0,
      "outputs": []
    },
    {
      "cell_type": "markdown",
      "metadata": {
        "id": "O4dzMLt-1_bl",
        "colab_type": "text"
      },
      "source": [
        "Plote as imagens geradas. (Escreva o código no espaço abaixo)"
      ]
    },
    {
      "cell_type": "code",
      "metadata": {
        "id": "0OuJtMdT2Fu2",
        "colab_type": "code",
        "colab": {}
      },
      "source": [
        ""
      ],
      "execution_count": 0,
      "outputs": []
    },
    {
      "cell_type": "markdown",
      "metadata": {
        "id": "OH8YDWU42G4m",
        "colab_type": "text"
      },
      "source": [
        "O que você consegue extrair deste experimento? Escreva no espaço abaixo."
      ]
    },
    {
      "cell_type": "markdown",
      "metadata": {
        "id": "e6SEiaTo2PVj",
        "colab_type": "text"
      },
      "source": [
        "> Responda aqui."
      ]
    }
  ]
}